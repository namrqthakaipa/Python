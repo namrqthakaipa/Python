{
 "cells": [
  {
   "cell_type": "code",
   "execution_count": 17,
   "id": "80dd40b9",
   "metadata": {},
   "outputs": [],
   "source": [
    "import numpy as np"
   ]
  },
  {
   "cell_type": "code",
   "execution_count": 18,
   "id": "e21f5d30",
   "metadata": {},
   "outputs": [
    {
     "name": "stdout",
     "output_type": "stream",
     "text": [
      "Marks of Students:\n",
      " [[29 61  9 93]\n",
      " [48 78 30 25]\n",
      " [ 5 14 44 20]\n",
      " [ 9  5 83  3]\n",
      " [82 35 58 19]\n",
      " [29 17 78 16]\n",
      " [85 17 20  4]\n",
      " [84 27 23 82]\n",
      " [27 19 84  3]\n",
      " [68 83 41  7]]\n"
     ]
    }
   ],
   "source": [
    "marks=np.random.randint(0,101, size=(10,4))\n",
    "print('Marks of Students:\\n',marks)"
   ]
  },
  {
   "cell_type": "code",
   "execution_count": 19,
   "id": "394ede24",
   "metadata": {},
   "outputs": [
    {
     "name": "stdout",
     "output_type": "stream",
     "text": [
      "Total marks of Each Student: \n",
      "  [192 181  83 100 194 140 126 216 133 199]\n"
     ]
    }
   ],
   "source": [
    "total_marks = np.sum(marks, axis=1)\n",
    "print(\"Total marks of Each Student: \\n \", total_marks)"
   ]
  },
  {
   "cell_type": "code",
   "execution_count": 20,
   "id": "bc803377",
   "metadata": {},
   "outputs": [
    {
     "name": "stdout",
     "output_type": "stream",
     "text": [
      "sorted Marks of students based of total marks\n",
      " [[ 5 14 44 20]\n",
      " [ 9  5 83  3]\n",
      " [85 17 20  4]\n",
      " [27 19 84  3]\n",
      " [29 17 78 16]\n",
      " [48 78 30 25]\n",
      " [29 61  9 93]\n",
      " [82 35 58 19]\n",
      " [68 83 41  7]\n",
      " [84 27 23 82]]\n"
     ]
    }
   ],
   "source": [
    "sorted_indices = np.argsort(total_marks)\n",
    "sorted_marks = marks[sorted_indices]\n",
    "print(\"sorted Marks of students based of total marks\\n\", sorted_marks)"
   ]
  },
  {
   "cell_type": "code",
   "execution_count": 21,
   "id": "72406c23",
   "metadata": {},
   "outputs": [
    {
     "name": "stdout",
     "output_type": "stream",
     "text": [
      "\n",
      " Sorted Total Marks: \n",
      " [ 83 100 126 133 140 181 192 194 199 216]\n"
     ]
    }
   ],
   "source": [
    "sorted_total_marks = total_marks[sorted_indices]\n",
    "print(\"\\n Sorted Total Marks: \\n\", sorted_total_marks)"
   ]
  },
  {
   "cell_type": "code",
   "execution_count": null,
   "id": "aad4c04a",
   "metadata": {},
   "outputs": [],
   "source": []
  },
  {
   "cell_type": "code",
   "execution_count": 8,
   "id": "bd3bb227",
   "metadata": {},
   "outputs": [],
   "source": []
  },
  {
   "cell_type": "code",
   "execution_count": null,
   "id": "d7219c3e",
   "metadata": {},
   "outputs": [],
   "source": []
  }
 ],
 "metadata": {
  "kernelspec": {
   "display_name": "Python 3 (ipykernel)",
   "language": "python",
   "name": "python3"
  },
  "language_info": {
   "codemirror_mode": {
    "name": "ipython",
    "version": 3
   },
   "file_extension": ".py",
   "mimetype": "text/x-python",
   "name": "python",
   "nbconvert_exporter": "python",
   "pygments_lexer": "ipython3",
   "version": "3.9.12"
  }
 },
 "nbformat": 4,
 "nbformat_minor": 5
}
