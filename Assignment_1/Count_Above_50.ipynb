{
 "cells": [
  {
   "cell_type": "code",
   "execution_count": 2,
   "id": "97f0c53e",
   "metadata": {},
   "outputs": [
    {
     "ename": "NameError",
     "evalue": "name 'random' is not defined",
     "output_type": "error",
     "traceback": [
      "\u001b[1;31m---------------------------------------------------------------------------\u001b[0m",
      "\u001b[1;31mNameError\u001b[0m                                 Traceback (most recent call last)",
      "Input \u001b[1;32mIn [2]\u001b[0m, in \u001b[0;36m<cell line: 5>\u001b[1;34m()\u001b[0m\n\u001b[0;32m      1\u001b[0m \u001b[38;5;28;01mimport\u001b[39;00m \u001b[38;5;21;01mnumpy\u001b[39;00m \u001b[38;5;28;01mas\u001b[39;00m \u001b[38;5;21;01mn\u001b[39;00m\n\u001b[0;32m      3\u001b[0m random_array \u001b[38;5;241m=\u001b[39m n\u001b[38;5;241m.\u001b[39mrandom\u001b[38;5;241m.\u001b[39mrandint(\u001b[38;5;241m0\u001b[39m,\u001b[38;5;241m101\u001b[39m,size\u001b[38;5;241m=\u001b[39m\u001b[38;5;241m10\u001b[39m)\n\u001b[1;32m----> 5\u001b[0m count_above_50 \u001b[38;5;241m=\u001b[39m n\u001b[38;5;241m.\u001b[39msum(\u001b[43mrandom\u001b[49m\u001b[38;5;241m-\u001b[39marray \u001b[38;5;241m>\u001b[39m \u001b[38;5;241m50\u001b[39m)\n\u001b[0;32m      8\u001b[0m \u001b[38;5;28mprint\u001b[39m(\u001b[38;5;124m\"\u001b[39m\u001b[38;5;124mRandom Array:\u001b[39m\u001b[38;5;124m\"\u001b[39m, random_array)\n\u001b[0;32m      9\u001b[0m \u001b[38;5;28mprint\u001b[39m(\u001b[38;5;124m\"\u001b[39m\u001b[38;5;124mCount of values above 50: \u001b[39m\u001b[38;5;124m\"\u001b[39m, count_above_50)\n",
      "\u001b[1;31mNameError\u001b[0m: name 'random' is not defined"
     ]
    }
   ],
   "source": [
    "import numpy as n\n",
    "\n",
    "random_array = n.random.randint(0,101,size=10)\n",
    "\n",
    "count_above_50 = n.sum(random_array > 50)\n",
    "\n",
    "\n",
    "print(\"Random Array:\", random_array)\n",
    "print(\"Count of values above 50: \", count_above_50)"
   ]
  },
  {
   "cell_type": "code",
   "execution_count": null,
   "id": "52bfb98e",
   "metadata": {},
   "outputs": [],
   "source": []
  }
 ],
 "metadata": {
  "kernelspec": {
   "display_name": "Python 3 (ipykernel)",
   "language": "python",
   "name": "python3"
  },
  "language_info": {
   "codemirror_mode": {
    "name": "ipython",
    "version": 3
   },
   "file_extension": ".py",
   "mimetype": "text/x-python",
   "name": "python",
   "nbconvert_exporter": "python",
   "pygments_lexer": "ipython3",
   "version": "3.9.12"
  }
 },
 "nbformat": 4,
 "nbformat_minor": 5
}
